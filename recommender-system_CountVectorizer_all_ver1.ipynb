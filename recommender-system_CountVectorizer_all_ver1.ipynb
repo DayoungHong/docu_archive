{
 "cells": [
  {
   "cell_type": "markdown",
   "metadata": {},
   "source": [
    "## konlpy로 synop 명사 추출\n",
    "## CountVectorizer, cosine_similarity"
   ]
  },
  {
   "cell_type": "markdown",
   "metadata": {},
   "source": [
    "1. synop내 명사만으로는 유사도 계산 부정확\n",
    "2. 제목, 태그, 대분류 완료 후  다시 계산\n",
    "3. 불용어 제거\n",
    "4. ~~다른 방송국 전체 데이터~~\n",
    "5. 유사도 계산도 트레이닝이 필요한 것인가?\n",
    "6. TfidfVectorizer은 다른 nb에 작성(-> TF, IDF 계산 식에 가중치 부여 가능여부?)\n",
    "7. 각 idx에 추천 epi idx column 추가 후 csv파일 저장"
   ]
  },
  {
   "cell_type": "code",
   "execution_count": 90,
   "metadata": {},
   "outputs": [],
   "source": [
    "import pandas as pd\n",
    "import numpy as np\n",
    "import unicodedata\n",
    "from konlpy.tag import *\n",
    "#from ast import literal_eval"
   ]
  },
  {
   "cell_type": "code",
   "execution_count": 92,
   "metadata": {},
   "outputs": [],
   "source": [
    "metadata = pd.read_csv('data_all_nsynop_dayoung_ver2.csv', encoding='cp949')\n",
    "del metadata['synop']"
   ]
  },
  {
   "cell_type": "code",
   "execution_count": 93,
   "metadata": {},
   "outputs": [
    {
     "data": {
      "text/html": [
       "<div>\n",
       "<style scoped>\n",
       "    .dataframe tbody tr th:only-of-type {\n",
       "        vertical-align: middle;\n",
       "    }\n",
       "\n",
       "    .dataframe tbody tr th {\n",
       "        vertical-align: top;\n",
       "    }\n",
       "\n",
       "    .dataframe thead th {\n",
       "        text-align: right;\n",
       "    }\n",
       "</style>\n",
       "<table border=\"1\" class=\"dataframe\">\n",
       "  <thead>\n",
       "    <tr style=\"text-align: right;\">\n",
       "      <th></th>\n",
       "      <th>idx</th>\n",
       "      <th>tv</th>\n",
       "      <th>title</th>\n",
       "      <th>epi</th>\n",
       "      <th>dates</th>\n",
       "      <th>links</th>\n",
       "      <th>vod_key</th>\n",
       "      <th>n_synop</th>\n",
       "    </tr>\n",
       "  </thead>\n",
       "  <tbody>\n",
       "    <tr>\n",
       "      <th>0</th>\n",
       "      <td>0</td>\n",
       "      <td>MBC</td>\n",
       "      <td>MBC 스페셜</td>\n",
       "      <td>생존 체력, 약골 40대 저질체력 탈출기</td>\n",
       "      <td>2018.10.01</td>\n",
       "      <td>http://www.imbc.com/broad/tv/culture/mbcspecia...</td>\n",
       "      <td>체력', '나이', '정신', '일상', '운동', '40대', '시간', '아이'...</td>\n",
       "      <td>마흔 살 생존 체력 필요 불혹 나이 생애 전환기 신체적 정신적 삶 터닝포인트 40세...</td>\n",
       "    </tr>\n",
       "    <tr>\n",
       "      <th>1</th>\n",
       "      <td>1</td>\n",
       "      <td>MBC</td>\n",
       "      <td>MBC 스페셜</td>\n",
       "      <td>당신, 독을 먹고 있나요?</td>\n",
       "      <td>2018.09.10</td>\n",
       "      <td>http://www.imbc.com/broad/tv/culture/mbcspecia...</td>\n",
       "      <td>달콤함', '인도', '설탕', '과거', '섭취', '단맛'</td>\n",
       "      <td>스위트 허니문(Honeymoon) 고진감래(苦盡甘來)… 달콤함 우리 행복 즐거움 리...</td>\n",
       "    </tr>\n",
       "    <tr>\n",
       "      <th>2</th>\n",
       "      <td>2</td>\n",
       "      <td>MBC</td>\n",
       "      <td>MBC 스페셜</td>\n",
       "      <td>방송의 날 특집6개월 후 만납시다: 북한 결핵병원 이야기</td>\n",
       "      <td>2018.09.03</td>\n",
       "      <td>http://www.imbc.com/broad/tv/culture/mbcspecia...</td>\n",
       "      <td>한반도', '북한', '이야기', '의사', '환자들', '치료', '다큐멘터리',...</td>\n",
       "      <td>2018년 한반도 급변 시작 11년 만 성사 남북정상회담 2년 10개월 만 이산가족...</td>\n",
       "    </tr>\n",
       "    <tr>\n",
       "      <th>3</th>\n",
       "      <td>3</td>\n",
       "      <td>MBC</td>\n",
       "      <td>MBC 스페셜</td>\n",
       "      <td>이산가족 상봉 특집 &lt;옥류관 서울 1호점&gt; 3부 이산</td>\n",
       "      <td>2018.08.20</td>\n",
       "      <td>http://www.imbc.com/broad/tv/culture/mbcspecia...</td>\n",
       "      <td>이산', '이산가족', '상봉', '행사', '70년', '길자', '평양', '고...</td>\n",
       "      <td>역사적 4.27 남북정상회담 계기 8월 20일 26일 2015년 이후 중단 이산가족...</td>\n",
       "    </tr>\n",
       "    <tr>\n",
       "      <th>4</th>\n",
       "      <td>4</td>\n",
       "      <td>MBC</td>\n",
       "      <td>MBC 스페셜</td>\n",
       "      <td>도시x자연다큐멘터리Ⅰ 고냥이</td>\n",
       "      <td>2018.08.13</td>\n",
       "      <td>http://www.imbc.com/broad/tv/culture/mbcspecia...</td>\n",
       "      <td>도시', '길고양이', '고양이', '영역', '어미', '불청객', '새끼들'</td>\n",
       "      <td>1 가구 증가 고령화 사회 속 반려동물 인구 천만명 반려동물 인구 위 동물들 무관심...</td>\n",
       "    </tr>\n",
       "  </tbody>\n",
       "</table>\n",
       "</div>"
      ],
      "text/plain": [
       "   idx   tv    title                              epi       dates  \\\n",
       "0    0  MBC  MBC 스페셜           생존 체력, 약골 40대 저질체력 탈출기  2018.10.01   \n",
       "1    1  MBC  MBC 스페셜                   당신, 독을 먹고 있나요?  2018.09.10   \n",
       "2    2  MBC  MBC 스페셜  방송의 날 특집6개월 후 만납시다: 북한 결핵병원 이야기  2018.09.03   \n",
       "3    3  MBC  MBC 스페셜    이산가족 상봉 특집 <옥류관 서울 1호점> 3부 이산  2018.08.20   \n",
       "4    4  MBC  MBC 스페셜                  도시x자연다큐멘터리Ⅰ 고냥이  2018.08.13   \n",
       "\n",
       "                                               links  \\\n",
       "0  http://www.imbc.com/broad/tv/culture/mbcspecia...   \n",
       "1  http://www.imbc.com/broad/tv/culture/mbcspecia...   \n",
       "2  http://www.imbc.com/broad/tv/culture/mbcspecia...   \n",
       "3  http://www.imbc.com/broad/tv/culture/mbcspecia...   \n",
       "4  http://www.imbc.com/broad/tv/culture/mbcspecia...   \n",
       "\n",
       "                                             vod_key  \\\n",
       "0  체력', '나이', '정신', '일상', '운동', '40대', '시간', '아이'...   \n",
       "1                 달콤함', '인도', '설탕', '과거', '섭취', '단맛'   \n",
       "2  한반도', '북한', '이야기', '의사', '환자들', '치료', '다큐멘터리',...   \n",
       "3  이산', '이산가족', '상봉', '행사', '70년', '길자', '평양', '고...   \n",
       "4       도시', '길고양이', '고양이', '영역', '어미', '불청객', '새끼들'   \n",
       "\n",
       "                                             n_synop  \n",
       "0  마흔 살 생존 체력 필요 불혹 나이 생애 전환기 신체적 정신적 삶 터닝포인트 40세...  \n",
       "1  스위트 허니문(Honeymoon) 고진감래(苦盡甘來)… 달콤함 우리 행복 즐거움 리...  \n",
       "2  2018년 한반도 급변 시작 11년 만 성사 남북정상회담 2년 10개월 만 이산가족...  \n",
       "3  역사적 4.27 남북정상회담 계기 8월 20일 26일 2015년 이후 중단 이산가족...  \n",
       "4  1 가구 증가 고령화 사회 속 반려동물 인구 천만명 반려동물 인구 위 동물들 무관심...  "
      ]
     },
     "execution_count": 93,
     "metadata": {},
     "output_type": "execute_result"
    }
   ],
   "source": [
    "metadata.head()"
   ]
  },
  {
   "cell_type": "code",
   "execution_count": 94,
   "metadata": {},
   "outputs": [
    {
     "data": {
      "text/plain": [
       "'2부작 옥수수 습격 1부 풀 기억동물성 지방 사람들미국 사우스캐롤라이나 지미 무어씨 하루 300g 버터 하루 필요 칼로리 대부분 버터 셈 것 시작 후 고도비만 탈출 4년 60Kg 감량 사실 프랑스 베르나르 르텍시에씨 버터 달걀 고 치즈등 대부분 동물성 식품 구성 식단 적용 후 3개월 몸무게 고혈압 일 가능 동물성 지방 비 동맥경화 고혈압 고지혈증 질환 원인 우리 동물성 지방 풍부 식품 건강 악화 일 분 수 것 사실일까동물성 지방 억울 누명프랑스인들 버터 프랑스 요리 중요 것 세 첫째 버터 둘째 버터 셋째 버터 속담 정도 버터 프랑스 음식 핵심재료 콜레스테롤 신화 버터 프랑스인들 늘어나자(의사들 심혈관계 환자들 버터 치즈 식물성 처방 프랑스 영양학자 피에르 베일 버터 구성 성분 연구 시작 2006년 피에르 웨일 버터 자체 것 버터 소 무엇 먹였느냐 버터 성분 180 사실 발견 이 버터 면죄부 피에르 베일 콜레스테롤 수치 버터 생산 그 발견 기적 버터 방법 단순 옥수수 주성분 곡물사료 대 뿐 1960년대 기점 프랑스 소 풀 건 대 옥수수사료 옥수수 소고 우유 성분 것 옥수수 문제 오메가6 지방산오메가 3 6지방산 우리 몸 세포막 구성 성분 오메가6 지방 축적 오메가3 지방 일 이상적 비율 1 1 원시 조상들 두 지방산 1 1 비율 섭취 현대인 오메가6 오메가3 섭취 비율 20 1 불균형 채 오메가6 지방산 지방세포 증식 염증반응 다양 질환 원인 오메가6 오메가3 지방산 동물 몸 식물만 이 합성 식물 잎 오메가3 지방산 씨앗 오메가6지방산 그 옥수수 알곡 오메가6 구성 비율 예외적 옥수수 오메가6 오메가3 구성 비율 66 1 1970년대 이후 전 세계 여물통(소고 우유 치즈 버터 모이통(닭고 계란 옥수수 알곡 우리 사 우리들 자신 섭생 옥수수 지방 우리들 몸 마음 연구자들 가축 옥수수 섭취 비 심장병 알레르기 질환 증 등 경고 우리 옥수수 습격 것 당신 몸 1 3 옥수수 믿으시겠습니까우리 음식 중 옥수수 기반 것들 취재진 평범 가정 아빠 두사람 머리카락 분석 결과 12살 딸 머리카락 34 옥수수 결과 이것 의미 것 무엇 우리 대부분 고 유제품 옥수수 사료 기반 취재진 시중 달걀 소고 구입 지방산 구성비율 분석 달걀 60 1 소고기 108 1 이 식품 우리들 지방산 비율 식품 비율 불균형 수 밖 취재진 확인 결과 우리나라 사람 지방산 비율 평균 20 1 정도 미국 유렵사람들 비숫한 수준 과체중 사람들 수록 비율 불균형 고도비만 피 실험자중 비율 100 1 사람 정상 4 1 풀 기억우리 육류 유제품만 건강 사람 존재 사실 몽골 유목민들 고 유제품 주식 그 가축 지방 즐겨먹는다 취재진 인터뷰한 몽골 의사 말 몽골 서양 사람 고 비 유발 이유 가축들 때문 옥수수 대표 곡물사료 사용 동물 동물 사람 자연 먹이사슬 사람 풀 이점 수 채소 건강 가축 건강 건강 가축 섭취 일 몸 리 옥수수 이 현실적 대안가축 곡물 목초 필요 현실적 한국에서 충분한 목초 확보 대신 국내 축산 농가 제작진 전문가들 오메가3 지방산 균형 소고 달걀 방법 연구 옥수수 작물 주식 고대 멕시코인 옥수수 오메가6지방산 지혜 그 옥수수 치 식물 씨앗 치아 지구상 식물중 오메가3 지방산 함량 취재진 강원대학교 박병성 교수 연구팀 한국 치아 해당 식물 확인 오메가3 지방산 다량 포함 씨앗들 사료 첨가 옥수수 오메가6 지방산 문제 해결 수 우리 옥수수 사료 문제 극복 수 콜레스테롤 소고기6개월간 실험 끝 오메가6 오메가3 균형 옥수수 배합사료 탄생 사료 소 소고 확 한 결과 지방산 비율 4 1 자연상태 소고 소고 우리 몸 일반 고 반응 대학생 12명 대상 실험 소고 학생들 콜레스테롤 것 확인 일반 수입소고기 때 학생들 콜레스테롤'"
      ]
     },
     "execution_count": 94,
     "metadata": {},
     "output_type": "execute_result"
    }
   ],
   "source": [
    "metadata['n_synop'][755]"
   ]
  },
  {
   "cell_type": "code",
   "execution_count": 95,
   "metadata": {},
   "outputs": [
    {
     "data": {
      "text/plain": [
       "1891"
      ]
     },
     "execution_count": 95,
     "metadata": {},
     "output_type": "execute_result"
    }
   ],
   "source": [
    "len(metadata['n_synop'])"
   ]
  },
  {
   "cell_type": "code",
   "execution_count": 97,
   "metadata": {},
   "outputs": [
    {
     "data": {
      "text/plain": [
       "1891"
      ]
     },
     "execution_count": 97,
     "metadata": {},
     "output_type": "execute_result"
    }
   ],
   "source": [
    "len(metadata['epi'])"
   ]
  },
  {
   "cell_type": "code",
   "execution_count": 96,
   "metadata": {},
   "outputs": [
    {
     "data": {
      "text/plain": [
       "'마흔 살 생존 체력 필요 불혹 나이 생애 전환기 신체적 정신적 삶 터닝포인트 40세 정신 일상 치 체력 방전 나이 실감 그동안 체력 중요성 운동 외면 40대 중년들 운동 삶 구원 트레이너 운명적 최소한 시간 맨몸 기초 체력 운동 40대들 저질 체력 극복 프로젝트 생존 체력 약골 40대 저질체력 탈출기 약골 40대 운동 답 코미디 쇼 최강자 전성기 강성범씨 침대 위 아재 40대 중반 체력 중요성 것 몸 생각 육아 입문 5년 차 퇴근 후 두 딸 딸바보 임청묵씨는 날 들 수 만큼 체력 들 자전거 때 번 이상 무리 그 나 올해 마흔 진짜 체력 몸 근력 편 체력 편 40 생존 체력 운동 도전자 임청묵씨 아내 인터뷰 中 운동 것 정신 것 강박관념 압박감 운동 때 걱정 오늘 데 것들 것 거예요 생존 체력 운동 도전자 강성범 인터뷰 中 프리랜서 통역 전문가 대학 강사 서지연씨 공인 체력 아이콘 하루 네 시간 출퇴근 너끈히 소화 커리 우먼 집 소파 일체 그녀 내년 마흔 학창시절 체육시간 김보라씨 모태 저질 체력 그녀 인생 등산 횟수 한 번 정거장 거리 대중교통 이용 귀차니스트 그녀 중년 시간 위 저질 체력 40대 갱생시키 긴급 처방 생존 체력 운동 운동 그 구원해 수 헬스클럽 운동기구 일상 힘 생존 체력 국민체력 테스트 측정 그 현재 체력 등급 외 판정 저질체력 4인방 생존 체력 운동 전문가 아주 트레이너 그곳 운동기구 운동 시작 수 필요 거 하루 15분 시간 하루 15분 시간 그 체력 변화 수 아기 엄마들 아이 수 체력 필요 무게 펀치 것 중요 것 허리 아이 안 수 체력 직장인 회의 야근 수 체력 수험생 공부 책상 위 허리 수 체력 한 것들 거예요 한 것들 실행 수 기본적 밑바닥 체력들 전 생존 체력 생존 체력 운동 전문 아주라 인터뷰 中 생존 체력 운동 스퀏 플랭크 푸시업 버피 네 가지 동작 식스팩 애플 히프 것 일상 최소한 투자(하루 15분 최적 효과(체력 향상 내 것 운동 핵심 헬스클럽 운동 프로그램 생존 체력 운동 저 일상 자연 달 후 그 삶 변'"
      ]
     },
     "execution_count": 96,
     "metadata": {},
     "output_type": "execute_result"
    }
   ],
   "source": [
    "metadata['n_synop'][0]"
   ]
  },
  {
   "cell_type": "code",
   "execution_count": 99,
   "metadata": {},
   "outputs": [],
   "source": [
    "#이 노트북에선 안씀\n",
    "#from sklearn.feature_extraction.text import TfidfVectorizer"
   ]
  },
  {
   "cell_type": "code",
   "execution_count": 101,
   "metadata": {},
   "outputs": [],
   "source": [
    "#n_synoplist = metadata['n_synop']"
   ]
  },
  {
   "cell_type": "markdown",
   "metadata": {},
   "source": [
    "# CountVectorizer"
   ]
  },
  {
   "cell_type": "code",
   "execution_count": 102,
   "metadata": {},
   "outputs": [],
   "source": [
    "from sklearn.feature_extraction.text import CountVectorizer\n",
    "\n",
    "#1개 이하로 나오는 단어 제외\n",
    "count = CountVectorizer(min_df=2)\n",
    "#count_matrix = count.fit_transform(metadata)"
   ]
  },
  {
   "cell_type": "code",
   "execution_count": 103,
   "metadata": {},
   "outputs": [],
   "source": [
    "count_matrix = count.fit_transform(metadata['n_synop'].values.astype('U'))"
   ]
  },
  {
   "cell_type": "code",
   "execution_count": 104,
   "metadata": {},
   "outputs": [
    {
     "data": {
      "text/plain": [
       "(1891, 22014)"
      ]
     },
     "execution_count": 104,
     "metadata": {},
     "output_type": "execute_result"
    }
   ],
   "source": [
    "count_matrix.shape"
   ]
  },
  {
   "cell_type": "markdown",
   "metadata": {},
   "source": [
    "## 코사인 유사도 점수 계산"
   ]
  },
  {
   "cell_type": "code",
   "execution_count": 105,
   "metadata": {},
   "outputs": [],
   "source": [
    "from sklearn.metrics.pairwise import cosine_similarity\n",
    "\n",
    "cosine_sim2 = cosine_similarity(count_matrix, count_matrix)"
   ]
  },
  {
   "cell_type": "code",
   "execution_count": 106,
   "metadata": {},
   "outputs": [],
   "source": [
    "# index는 dataframe의 idx\n",
    "indices = pd.Series(metadata.index, index=metadata['idx'])"
   ]
  },
  {
   "cell_type": "code",
   "execution_count": 107,
   "metadata": {},
   "outputs": [],
   "source": [
    "def get_recommendations(idx, cosine_sim2=cosine_sim2):\n",
    "    #제목과 일치하는 에피소드 인덱스 가지고옴\n",
    "    idx = indices[idx]\n",
    "    \n",
    "    sim_scores = list(enumerate(cosine_sim2[idx]))\n",
    "    \n",
    "    sim_scores = sorted(sim_scores, key=lambda x: x[1], reverse=True)\n",
    "    \n",
    "    #비슷한 에피소드 상위 10개\n",
    "    sim_scores = sim_scores[1:11]\n",
    "    \n",
    "    # indices\n",
    "    epi_indices = [i[0] for i in sim_scores]\n",
    "    \n",
    "        \n",
    "    return metadata['epi'].iloc[epi_indices]"
   ]
  },
  {
   "cell_type": "markdown",
   "metadata": {},
   "source": [
    "### 나중에 epi & recommedation epi, index 한번에 출력 함수 만들기"
   ]
  },
  {
   "cell_type": "code",
   "execution_count": 108,
   "metadata": {},
   "outputs": [
    {
     "name": "stdout",
     "output_type": "stream",
     "text": [
      "episode : 지구의 눈물 북극에서 남극까지 I\n"
     ]
    },
    {
     "data": {
      "text/plain": [
       "235                             지구의 눈물 북극에서 남극까지 II\n",
       "880                                   신이 내린 묘약 - 눈물\n",
       "1518                             북극열전 - 제4부 원시북극의 위\n",
       "1735    북극열전-3부 원시북극의 위기(Entering Virgin Territory)\n",
       "1519                              북극열전 - 제3부 남획의 그늘\n",
       "1734             북극열전-4부 남획의 그늘(Predatory activies)\n",
       "1732              북극열전-6부 영토 분쟁의 서곡(Border Confict)\n",
       "1517                           북극열전 - 제5부 영토 분쟁의 서곡\n",
       "1737                             북극열전-1부 위기의 북극을 가다\n",
       "1736                      북극열전-2부 북극항로, 신해상 실크로드의 꿈\n",
       "Name: epi, dtype: object"
      ]
     },
     "execution_count": 108,
     "metadata": {},
     "output_type": "execute_result"
    }
   ],
   "source": [
    "print('episode : ' + metadata['epi'][236])\n",
    "get_recommendations(236, cosine_sim2)"
   ]
  },
  {
   "cell_type": "code",
   "execution_count": 123,
   "metadata": {},
   "outputs": [
    {
     "name": "stdout",
     "output_type": "stream",
     "text": [
      "episode : 푸른 눈에 내린 신령\n"
     ]
    },
    {
     "data": {
      "text/plain": [
       "362               순례(1)안녕 - 나의 소녀 시절이여(재)\n",
       "683                  나는 산다 - 김수영, 꿈의 파노라마\n",
       "813               몸의 유혹 - 그들은 왜 몸에 열광하는가?\n",
       "734                     하리수 10년, 그녀를 꿈꾸다!\n",
       "286     Celebrity Biography - 장진영의 마지막 1년\n",
       "660                 그녀, 뼈를 깎다 - 내 딸의 양악수술\n",
       "488                   #미투 (Me Too) 나는 말한다\n",
       "265                 박완서 추모특집 ‘그 겨울은 따뜻했네’\n",
       "637                            이영애의 만찬 1부\n",
       "1038                 <4차 인간> 2부 인간은 기계인가?\n",
       "Name: epi, dtype: object"
      ]
     },
     "execution_count": 123,
     "metadata": {},
     "output_type": "execute_result"
    }
   ],
   "source": [
    "# 결과 이상함................\n",
    "print('episode : '+ metadata['epi'][887])\n",
    "get_recommendations(887, cosine_sim2)"
   ]
  },
  {
   "cell_type": "markdown",
   "metadata": {},
   "source": [
    "## 추천 함수?"
   ]
  },
  {
   "cell_type": "code",
   "execution_count": 124,
   "metadata": {},
   "outputs": [],
   "source": [
    "def recommender(idx):\n",
    "    print('episode : ' + metadata['epi'][idx])\n",
    "    \n",
    "    return get_recommendations(idx, cosine_sim2)\n",
    "    "
   ]
  },
  {
   "cell_type": "code",
   "execution_count": 125,
   "metadata": {},
   "outputs": [
    {
     "name": "stdout",
     "output_type": "stream",
     "text": [
      "episode : 생존 체력, 약골 40대 저질체력 탈출기\n"
     ]
    },
    {
     "data": {
      "text/plain": [
       "623               ‘간헐적 운동’에서 ‘신체 리모델링’까지\n",
       "1496        학교체육, 미래를 만나다 2부 운동, 교실을 바꾸다\n",
       "1042                   생존 - 1부 최후의 생존, 삵\n",
       "1041                 생존 - 2부 최후의 생존, 너구리\n",
       "1124                      <사라진 인류> 2부 생존\n",
       "1040                  생존 - 3부 새, 생존을 말하다\n",
       "1495    학교체육, 미래를 만나다 3부 운동, 행복한 아이를 만든다\n",
       "892                    0.2평의 기적, 절하는 사람들\n",
       "1497       학교체육, 미래를 만나다 1부 체육이 우등생을 만든다\n",
       "353                플라스틱 지구(2) - 굿바이 플라스틱\n",
       "Name: epi, dtype: object"
      ]
     },
     "execution_count": 125,
     "metadata": {},
     "output_type": "execute_result"
    }
   ],
   "source": [
    "recommender(0)"
   ]
  },
  {
   "cell_type": "code",
   "execution_count": 126,
   "metadata": {},
   "outputs": [
    {
     "name": "stdout",
     "output_type": "stream",
     "text": [
      "episode : 북에서 온 머구리\n"
     ]
    },
    {
     "data": {
      "text/plain": [
       "879                          심해, 마지막 머구리\n",
       "807                            연평별곡 (別曲)\n",
       "866     남측 벼를 심으려 왔습니다 - 평양, 당곡리에서 맺은 결실\n",
       "841                              말도 아리랑 \n",
       "781                        영  동  선 (嶺東線)\n",
       "1439      우랄ㆍ알타이를 가다 - 1부 우랄의 첫 땅, 예레메예보\n",
       "283                            불가사리와의 전쟁\n",
       "840                     물위를 떠도는 영혼 바다 집시\n",
       "844                  SBS스페셜 다큐멘터리 동화 네팔 \n",
       "729                      어떤 마을에 살고 싶으세요?\n",
       "Name: epi, dtype: object"
      ]
     },
     "execution_count": 126,
     "metadata": {},
     "output_type": "execute_result"
    }
   ],
   "source": [
    "recommender(322)"
   ]
  },
  {
   "cell_type": "code",
   "execution_count": 127,
   "metadata": {},
   "outputs": [
    {
     "name": "stdout",
     "output_type": "stream",
     "text": [
      "episode : 돌고돌아 봄 - 불영사에서 나누다\n"
     ]
    },
    {
     "data": {
      "text/plain": [
       "1066    <4차 산업혁명, 교육 패러다임의 대전환> - 2부 칸막이를 없애라\n",
       "1067      <4차 산업혁명, 교육 패러다임의 대전환> - 1부 대학의 변신\n",
       "1092           <4차 산업혁명시대 교육대혁명> 2부 평가의 틀을 깨라\n",
       "1093    <4차 산업혁명시대 교육대혁명> 1부 AI와 인간의 공존은 가능한가\n",
       "1091          <4차 산업혁명시대 교육대혁명> 3부 대학, 변해야 산다\n",
       "845                            대한민국 기적의 열쇠 2부\n",
       "1119                 글로벌 인재전쟁 5부 대한민국, 도약의 조건\n",
       "1745                                   미래의 학교\n",
       "1500                  자본주의 5부. 국가는 무엇을 해야 하는가\n",
       "447                                미래를 바꿀 승부수\n",
       "Name: epi, dtype: object"
      ]
     },
     "execution_count": 127,
     "metadata": {},
     "output_type": "execute_result"
    }
   ],
   "source": [
    "# 전부 4차산업혁명 다큐임.\n",
    "recommender(400)"
   ]
  },
  {
   "cell_type": "code",
   "execution_count": null,
   "metadata": {},
   "outputs": [],
   "source": []
  },
  {
   "cell_type": "code",
   "execution_count": null,
   "metadata": {},
   "outputs": [],
   "source": []
  }
 ],
 "metadata": {
  "kernelspec": {
   "display_name": "Python 3",
   "language": "python",
   "name": "python3"
  },
  "language_info": {
   "codemirror_mode": {
    "name": "ipython",
    "version": 3
   },
   "file_extension": ".py",
   "mimetype": "text/x-python",
   "name": "python",
   "nbconvert_exporter": "python",
   "pygments_lexer": "ipython3",
   "version": "3.6.5"
  }
 },
 "nbformat": 4,
 "nbformat_minor": 2
}
